{
 "cells": [
  {
   "cell_type": "code",
   "execution_count": 55,
   "metadata": {},
   "outputs": [],
   "source": [
    "import pandas as pd\n",
    "from scipy import stats\n",
    "import math"
   ]
  },
  {
   "cell_type": "markdown",
   "metadata": {},
   "source": [
    "### Invariants: Number of cookies:\n",
    "- Number of Cookies\n",
    "- Number of Clicks\n",
    "- Click-through Probability"
   ]
  },
  {
   "cell_type": "markdown",
   "metadata": {},
   "source": [
    "### 1. Calculating Standard Deviation\n",
    "#### Baseline Values\n",
    "<font face = 'Segoe UI'>Unique cookies to view course overview page per day: 40000<br>\n",
    "Unique cookies to click \"Start free trial\" per day: 3200<br>\n",
    "Enrollments per day: 660<br>\n",
    "Click-through-probability on \"Start free trial\": 0.08<br>\n",
    "Probability of enrolling, given click: 0.20625<br>\n",
    "Probability of payment, given enroll: 0.53<br>\n",
    "Probability of payment, given click: 0.1093125</font>"
   ]
  },
  {
   "cell_type": "markdown",
   "metadata": {},
   "source": [
    "#### When the sample size is equal to 5,000, we got the following standard errors for each metric."
   ]
  },
  {
   "cell_type": "code",
   "execution_count": 2,
   "metadata": {},
   "outputs": [
    {
     "name": "stdout",
     "output_type": "stream",
     "text": [
      "STD for Gross Conversion: 0.0202\n",
      "STD for Rentension: 0.0549\n",
      "STD for Net Rentension: 0.0156\n"
     ]
    }
   ],
   "source": [
    "# sample size for the metrics\n",
    "sampleSize = 5000\n",
    "ratio = 5000 / 40000\n",
    "startCookie = 3200 * ratio\n",
    "enrollment = 660 * ratio\n",
    "\n",
    "# STD for gross conversion\n",
    "p1 = 0.20625\n",
    "grossConv = round(math.sqrt(p1 * (1 - p1) / startCookie), 4)\n",
    "print(\"STD for Gross Conversion: \" + str(grossConv))\n",
    "\n",
    "# STD for rentention\n",
    "p2 = 0.53\n",
    "rentention = round(math.sqrt(p2 * (1 - p2) / enrollment), 4)\n",
    "print(\"STD for Rentension: \" + str(rentention))\n",
    "\n",
    "# STD for Net conversion\n",
    "p3 = 0.1093125\n",
    "netConv = round(math.sqrt(p3 * (1 - p3) / startCookie), 4)\n",
    "print(\"STD for Net Rentension: \" + str(netConv))"
   ]
  },
  {
   "cell_type": "markdown",
   "metadata": {},
   "source": [
    "### 2. The Number of Page Views needed\n",
    "#### Sample Size:\n",
    "<font face = 'Segoe UI'>By using <font face = 'Segoe UI Black'>Sample Size Calculator</font> (link: https://www.evanmiller.org/ab-testing/sample-size.html), I got the following sample size results for each evaluation metrics.<br>\n",
    "Gross Conversion: 25,835<br>\n",
    "Rentension: 39,115<br>\n",
    "Net Conversion: 27,413<br> \n",
    "</font>\n",
    "#### Page View"
   ]
  },
  {
   "cell_type": "code",
   "execution_count": 3,
   "metadata": {},
   "outputs": [
    {
     "name": "stdout",
     "output_type": "stream",
     "text": [
      "Page View for Gross Conversion: 645875.0\n",
      "Page View for Rentension: 4741212.121212121\n",
      "Page View for Net Conversion: 685325.0\n",
      "The page views that will be needed for this test is: 4741212.0\n"
     ]
    }
   ],
   "source": [
    "pageGC = 2 * 25835 / 3200 * 40000\n",
    "pageR = 2 * 39115 / 660 * 40000\n",
    "pageNC = 2 * 27413 / 3200 * 40000\n",
    "totalPage = round(max(pageGC, pageR, pageNC), 0)\n",
    "print(\"Page View for Gross Conversion: \" + str(pageGC))\n",
    "print(\"Page View for Rentension: \" + str(pageR))\n",
    "print(\"Page View for Net Conversion: \" + str(pageNC))\n",
    "print(\"The page views that will be needed for this test is: \" + str(totalPage))"
   ]
  },
  {
   "cell_type": "markdown",
   "metadata": {},
   "source": [
    "#### Length of Experiment\n",
    "<font face = 'Segoe UI'>Assume 100% traffic will be diverted to this experiment"
   ]
  },
  {
   "cell_type": "code",
   "execution_count": 4,
   "metadata": {},
   "outputs": [
    {
     "name": "stdout",
     "output_type": "stream",
     "text": [
      "Days for all three metrics: 119.0\n",
      "Days for Gross Conversion and Net Conversion metrics: 17.0\n"
     ]
    }
   ],
   "source": [
    "# Days for all three metrics\n",
    "print(\"Days for all three metrics: \" + str(round(totalPage / 40000, 0)))\n",
    "\n",
    "# Days for the metrics of Gross Conversion and Net Conversion\n",
    "print(\"Days for Gross Conversion and Net Conversion metrics: \" + str(round(pageNC / 40000, 0)))"
   ]
  },
  {
   "cell_type": "markdown",
   "metadata": {},
   "source": [
    "<font face = 'Segoe UI'> Based on results above, we could know if we take three metrics into account, the experiment will last too long. However, taking only two metrics will just take 17 days. Therefore, we could decrease the traffic percentage to increase the days of experiment for two metrics.<br><br>Here, we will test 40% and 60% to see the changes."
   ]
  },
  {
   "cell_type": "code",
   "execution_count": 5,
   "metadata": {},
   "outputs": [
    {
     "name": "stdout",
     "output_type": "stream",
     "text": [
      "Days for Gross Conversion and Net Conversion metrics (40%): 43.0\n",
      "Days for Gross Conversion and Net Conversion metrics (60%): 29.0\n"
     ]
    }
   ],
   "source": [
    "print(\"Days for Gross Conversion and Net Conversion metrics (40%): \" + str(round(pageNC / (40000 * 0.4), 0)))\n",
    "print(\"Days for Gross Conversion and Net Conversion metrics (60%): \" + str(round(pageNC / (40000 * 0.6), 0)))"
   ]
  },
  {
   "cell_type": "markdown",
   "metadata": {},
   "source": [
    "<font face = 'Segoe UI'>Based on the results above, diverting 60% of traffic could be a better percentage for both analysis and experiment because we have both enough time period and reliable results."
   ]
  },
  {
   "cell_type": "markdown",
   "metadata": {},
   "source": [
    "### 3. Sanity Check\n",
    "<font face = 'Segoe UI'>For the invariant Metrics"
   ]
  },
  {
   "cell_type": "code",
   "execution_count": 12,
   "metadata": {},
   "outputs": [],
   "source": [
    "controlDF = pd.read_excel(\"Final Project Results.xlsx\", sheet_name = \"Control\")\n",
    "experimentDF = pd.read_excel(\"Final Project Results.xlsx\", sheet_name = \"Experiment\")"
   ]
  },
  {
   "cell_type": "code",
   "execution_count": 7,
   "metadata": {},
   "outputs": [
    {
     "name": "stdout",
     "output_type": "stream",
     "text": [
      "The confidential interval for cookies: (0.4988, 0.5012)\n",
      "Observerd value for cookies: 0.5006\n",
      "\n",
      "The confidential interval for clicks: (0.4959, 0.5041)\n",
      "Observerd value for clicks: 0.5005\n",
      "\n",
      "The confidential interval for CTP: (-0.0013, 0.0013)\n",
      "Observerd value for CTP: 0.0001\n"
     ]
    }
   ],
   "source": [
    "# Calculate the number of page views and clicks in both group\n",
    "controlPage = controlDF.Pageviews.sum()\n",
    "controlClick = controlDF.Clicks.sum()\n",
    "experimentPage = experimentDF.Pageviews.sum()\n",
    "experimentClick = experimentDF.Clicks.sum()\n",
    "\n",
    "# Set p = 0.5 because we expect two groups could have the same number of views or click for the test.\n",
    "P = 0.5\n",
    "MUTIPLE = 1.96\n",
    "\n",
    "# For cookies\n",
    "stdCookies = math.sqrt(P * (1 - P) / (controlPage + experimentPage))\n",
    "meanCookies = 0.5\n",
    "cookieLB, cookieUB = round(meanCookies - MUTIPLE * stdCookies, 4), round(meanCookies + MUTIPLE * stdCookies, 4)\n",
    "print(\"The confidential interval for cookies: \" + str(tuple([cookieLB, cookieUB])))\n",
    "print(\"Observerd value for cookies: \" + str(round(controlPage / (controlPage + experimentPage), 4)) + \"\\n\")\n",
    "\n",
    "# For clicks\n",
    "stdClicks = math.sqrt(P * (1 - P) / (controlClick + experimentClick))\n",
    "meanClicks = 0.5\n",
    "clickLB, clickUB = round(meanClicks - MUTIPLE * stdClicks, 4), round(meanClicks + MUTIPLE * stdClicks, 4)\n",
    "print(\"The confidential interval for clicks: \" + str(tuple([clickLB, clickUB])))\n",
    "print(\"Observerd value for clicks: \" + str(round(controlClick / (controlClick + experimentClick), 4)) + \"\\n\")\n",
    "\n",
    "# For Click-through-probability\n",
    "clickProb = (controlClick + experimentClick) / (controlPage + experimentPage) # pooled prob\n",
    "stdClicks = math.sqrt(clickProb * (1 - clickProb) * (1 / controlPage + 1 / experimentPage)) # std\n",
    "clickDiff = (experimentClick / experimentPage) - (controlClick / controlPage) # diff between control and exp\n",
    "clickMOE = 1.96 * stdClicks # Margin of Error\n",
    "clickLB, clickUB = round(-1 * clickMOE, 4), round(clickMOE, 4)\n",
    "print(\"The confidential interval for CTP: \" + str(tuple([clickLB, clickUB])))\n",
    "print(\"Observerd value for CTP: \" + str(round(clickDiff, 4)))"
   ]
  },
  {
   "cell_type": "markdown",
   "metadata": {},
   "source": [
    "### 4. Effect Size Tests\n",
    "<font face = 'Segoe UI'>For each of evalution metrics: Gross Conversion & Net Conversion"
   ]
  },
  {
   "cell_type": "code",
   "execution_count": 21,
   "metadata": {},
   "outputs": [
    {
     "name": "stdout",
     "output_type": "stream",
     "text": [
      "The confidential interval for Gross Conversion: (-0.0291, -0.012)\n",
      "The confidential interval for Net Conversion: (-0.0116, 0.0019)\n"
     ]
    }
   ],
   "source": [
    "# Remove all NA values first\n",
    "controlDF2 = controlDF.dropna(axis = 0, thresh = 4)\n",
    "experimentDF2 = experimentDF.dropna(axis = 0, thresh = 4)\n",
    "\n",
    "# Caculating Gross Conversion\n",
    "controlClick2 = controlDF2.Clicks.sum()\n",
    "controlEnroll = controlDF2.Enrollments.sum()\n",
    "experimentClick2 = experimentDF2.Clicks.sum()\n",
    "experimentEnroll = experimentDF2.Enrollments.sum()\n",
    "\n",
    "grossConversionProb = (controlEnroll + experimentEnroll) / (controlClick2 + experimentClick2) # Probability\n",
    "stdGrossConversion = math.sqrt(grossConversionProb * (1 - grossConversionProb) * (1 / controlClick2 + 1 / experimentClick2)) # std\n",
    "grossConversionDiff = experimentEnroll / experimentClick2 - controlEnroll / controlClick2\n",
    "grossConversionMOE = 1.96 * stdGrossConversion # Margin of error for Gross Conversion\n",
    "grossConversionLB, grossConversionUB = round(grossConversionDiff - grossConversionMOE, 4), \\\n",
    "                                        round(grossConversionDiff + grossConversionMOE, 4)\n",
    "print(\"The confidential interval for Gross Conversion: \" + str(tuple([grossConversionLB, grossConversionUB])))\n",
    "\n",
    "# Calculating Net Conversion\n",
    "controlPayment = controlDF2.Payments.sum()\n",
    "experimentPayment = experimentDF2.Payments.sum()\n",
    "\n",
    "netConversionProb = (controlPayment + experimentPayment) / (controlClick2 + experimentClick2) # Probability\n",
    "stdNetConversion = math.sqrt(netConversionProb * (1 - netConversionProb) * (1 / controlClick2 + 1 / experimentClick2))\n",
    "netConversionDiff = experimentPayment / experimentClick2 - controlPayment / controlClick2\n",
    "netConversionMOE = 1.96 * stdNetConversion\n",
    "netConversionLB, netConversionUB = round(netConversionDiff - netConversionMOE, 4), round(netConversionDiff + netConversionMOE, 4)\n",
    "print(\"The confidential interval for Net Conversion: \" + str(tuple([netConversionLB, netConversionUB])))"
   ]
  },
  {
   "cell_type": "markdown",
   "metadata": {},
   "source": [
    "<font face = 'Segoe UI'>The boundary for minimum detectable effect for Gross Conversion is __0.01__, the confidential interval we got from test result is __(-0.0291, -0.0120)__. Since (-0.01, 0.01) isn't in the confidential interval and the confidential interval doesn't include 0, we could say the experiment is __practical significance and statistical significance__.<br>The boundary for minimum detectable effect for Net Conversion is __0.0075__, the confidential interval we got from test result is __(-0.0116, 0.0019)__. Since the subset (-0.0075, 0.0019) of (-0.0075, 0.0075) is in the confidential interval and the confidential interval includes 0, we could say the experiment is __NOT practical significance and NOT statistical significance__."
   ]
  },
  {
   "cell_type": "markdown",
   "metadata": {},
   "source": [
    "### 5. Sign Test for evaluation metrics\n",
    "<font face = 'Segoe UI'>Under 95% confidence level"
   ]
  },
  {
   "cell_type": "code",
   "execution_count": 57,
   "metadata": {},
   "outputs": [
    {
     "name": "stdout",
     "output_type": "stream",
     "text": [
      "P-value for Gross Conversion: 0.0026\n",
      "P-value for Net Conversion: 0.6776\n"
     ]
    }
   ],
   "source": [
    "# Construct a new DataFrame for the analysis\n",
    "controlDF3 = controlDF2.set_index(\"Date\")\n",
    "experimentDF3 = experimentDF2.set_index(\"Date\")\n",
    "combinedDF = controlDF3.join(experimentDF3, lsuffix = \"_con\", rsuffix = \"_exp\")\n",
    "combinedDF['GrossConversion_con'] = combinedDF['Enrollments_con'] / combinedDF['Clicks_con']\n",
    "combinedDF['NetConversion_con'] = combinedDF['Payments_con'] / combinedDF['Clicks_con']\n",
    "combinedDF['GrossConversion_exp'] = combinedDF['Enrollments_exp'] / combinedDF['Clicks_exp']\n",
    "combinedDF['NetConversion_exp'] = combinedDF['Payments_exp'] / combinedDF['Clicks_exp']\n",
    "\n",
    "combinedDF = combinedDF[combinedDF['GrossConversion_con'] != combinedDF['GrossConversion_exp']]\n",
    "combinedDF = combinedDF[combinedDF['NetConversion_con'] != combinedDF['NetConversion_exp']]\n",
    "\n",
    "combinedDF['GrossConversionSuccess'] = combinedDF['GrossConversion_exp'] > combinedDF['GrossConversion_con']\n",
    "combinedDF['NetConversionSuccess'] = combinedDF['NetConversion_exp'] > combinedDF['NetConversion_con']\n",
    "\n",
    "# Count the number for Sign test\n",
    "total = len(combinedDF)\n",
    "gcSuccess = len(combinedDF[combinedDF['GrossConversionSuccess'] == True])\n",
    "ncSuccess = len(combinedDF[combinedDF['NetConversionSuccess'] == True])\n",
    "\n",
    "pValueGC = round(stats.binom_test(gcSuccess, n = total, p = 0.5), 4)\n",
    "pValueNC = round(stats.binom_test(ncSuccess, n = total, p = 0.5), 4)\n",
    "print(\"P-value for Gross Conversion: \" + str(pValueGC))\n",
    "print(\"P-value for Net Conversion: \" + str(pValueNC))"
   ]
  },
  {
   "cell_type": "markdown",
   "metadata": {},
   "source": [
    "<font face = 'Segoe UI'>Since the P-value for Gross Conversion is __0.0026 < 0.05__, thus, we could reject the Null Hypothesis. Also, Gross Conversion is __Statistical Significance__.<br>\n",
    "For Net Conversion, its p-value is __0.6776 > 0.05__. We are unable to reject Null Hypothesis, thus, it is __NOT Statistical Significance__."
   ]
  },
  {
   "cell_type": "markdown",
   "metadata": {},
   "source": [
    "### 6. Conclusion\n",
    "<font face = 'Segoe UI'>For Net Conversion, both Effect Size Test and Sign Test are not statistical significance and practical significance, which may not be the basis for the conclusion. Besides, the confidential interval also indicates Udacity has the risk of losing money from users.<br><br>For the Gross Conversion, both Effect Size Test and Sign Test are statistical significance and practical significance, this means we indeed could decrease the number of students who enroll the courses when they see the notification, which correspondingly could decrease the cost for the users in the trial period.<br><br>To help students get a better understanding of whether they are qualified or not for the course, we could also add a pre-requisite test for them before they click the \"Start free trial\" to help them test themselves. This could also be evaluated with another A/B test."
   ]
  }
 ],
 "metadata": {
  "kernelspec": {
   "display_name": "Python 3",
   "language": "python",
   "name": "python3"
  },
  "language_info": {
   "codemirror_mode": {
    "name": "ipython",
    "version": 3
   },
   "file_extension": ".py",
   "mimetype": "text/x-python",
   "name": "python",
   "nbconvert_exporter": "python",
   "pygments_lexer": "ipython3",
   "version": "3.8.3"
  }
 },
 "nbformat": 4,
 "nbformat_minor": 4
}
